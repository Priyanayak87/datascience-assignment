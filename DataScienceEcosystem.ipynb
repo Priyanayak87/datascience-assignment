{
 "cells": [
  {
   "cell_type": "markdown",
   "id": "e28be16a-a775-4c51-9b02-4bf746e23a6c",
   "metadata": {},
   "source": [
    "\n",
    "\n",
    "# Data Science Tools and Ecosystem\n",
    "\n"
   ]
  },
  {
   "cell_type": "markdown",
   "id": "ae684e25-f9d3-4f86-9cb4-f3375925bd2d",
   "metadata": {},
   "source": [
    "## Author\n",
    "Priya Nayak"
   ]
  },
  {
   "cell_type": "markdown",
   "id": "e1a3ae10-58d5-4a22-a116-55c85367cd6f",
   "metadata": {},
   "source": [
    "In this notebook, Data Science Tools and Eco systems are summarized."
   ]
  },
  {
   "cell_type": "markdown",
   "id": "80aa2dd1-3c14-4813-acf3-9e92fb647b05",
   "metadata": {},
   "source": [
    "**Objectives:**\n",
    "- List the popular languages used in data science\n",
    "- List examples of libraries used in data science\n",
    "- List examples of open source tools used in data science\n",
    "- Introduction to simple arithmetic expressions in Python"
   ]
  },
  {
   "cell_type": "markdown",
   "id": "42938642-67d4-4077-92d3-4cd2f0c5ac82",
   "metadata": {},
   "source": [
    "#### Some of the popular languages that Data Scientists use are:\n",
    "1. Python\n",
    "2. R\n",
    "3. SQL\n"
   ]
  },
  {
   "cell_type": "markdown",
   "id": "781411e0-432e-4fb9-84f9-ed87e0031c7c",
   "metadata": {},
   "source": [
    "#### Some of the commonly used libraries used by Data Scientists include:\n",
    "1. Pandas\n",
    "2. Matplotlib\n",
    "3. TensorFlow\n",
    "4. NumPy"
   ]
  },
  {
   "cell_type": "markdown",
   "id": "4c312412-2964-47bd-a71e-8ddf33404388",
   "metadata": {},
   "source": [
    "#### Below is a table listing some examples of  development environment open source tools:\n",
    "\n",
    "| *Data Science Tools* |\n",
    "|----------------------|\n",
    "|Jupyter Notebook|\n",
    "|RStudio|\n",
    "|Apache Hadoop|\n",
    "\n"
   ]
  },
  {
   "cell_type": "markdown",
   "id": "2b6f5aa4-55c4-485b-80e4-de1bcb33091a",
   "metadata": {},
   "source": [
    "### Below are a few examples of evaluating arithmetic expressions in Python"
   ]
  },
  {
   "cell_type": "code",
   "execution_count": 5,
   "id": "5dd18fb3-7507-4d53-adf4-5d0b47132bd7",
   "metadata": {},
   "outputs": [
    {
     "data": {
      "text/plain": [
       "17"
      ]
     },
     "execution_count": 5,
     "metadata": {},
     "output_type": "execute_result"
    }
   ],
   "source": [
    "#This is a simple arithmetic expression to multiply and then add integers\n",
    "(3*4)+5\n"
   ]
  },
  {
   "cell_type": "code",
   "execution_count": 6,
   "id": "cd2f152c-8a0c-42e7-9337-f7ffca7b8fb5",
   "metadata": {},
   "outputs": [
    {
     "data": {
      "text/plain": [
       "3.3333333333333335"
      ]
     },
     "execution_count": 6,
     "metadata": {},
     "output_type": "execute_result"
    }
   ],
   "source": [
    "#This will convert 200 minutes to hours by dividing by 60\n",
    "200/60"
   ]
  },
  {
   "cell_type": "code",
   "execution_count": null,
   "id": "f6ebce93-5b31-4e64-b282-c023a7a4cfe1",
   "metadata": {},
   "outputs": [],
   "source": []
  },
  {
   "cell_type": "code",
   "execution_count": null,
   "id": "add0f344-9ca5-49d7-9212-20a05557f1cb",
   "metadata": {},
   "outputs": [],
   "source": []
  },
  {
   "cell_type": "code",
   "execution_count": null,
   "id": "ac48ee87-512b-4376-b32a-4f9fe929b5c8",
   "metadata": {},
   "outputs": [],
   "source": []
  },
  {
   "cell_type": "code",
   "execution_count": null,
   "id": "7ed599c4-0048-4741-b4b0-525e40fd41ec",
   "metadata": {},
   "outputs": [],
   "source": []
  }
 ],
 "metadata": {
  "kernelspec": {
   "display_name": "Python 3 (ipykernel)",
   "language": "python",
   "name": "python3"
  },
  "language_info": {
   "codemirror_mode": {
    "name": "ipython",
    "version": 3
   },
   "file_extension": ".py",
   "mimetype": "text/x-python",
   "name": "python",
   "nbconvert_exporter": "python",
   "pygments_lexer": "ipython3",
   "version": "3.11.7"
  }
 },
 "nbformat": 4,
 "nbformat_minor": 5
}
